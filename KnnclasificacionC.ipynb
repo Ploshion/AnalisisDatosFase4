{
 "cells": [
  {
   "cell_type": "code",
   "execution_count": 4,
   "id": "c57b69bf-349a-4c70-b4dc-0ad1f82d34a5",
   "metadata": {},
   "outputs": [
    {
     "name": "stdout",
     "output_type": "stream",
     "text": [
      "classification               precision    recall  f1-score   support\n",
      "\n",
      "           1       1.00      1.00      1.00       130\n",
      "\n",
      "    accuracy                           1.00       130\n",
      "   macro avg       1.00      1.00      1.00       130\n",
      "weighted avg       1.00      1.00      1.00       130\n",
      "\n",
      "Cross [1. 1. 1. 1. 1.]\n",
      "Cross 1.0\n",
      "Accuracy 1.0\n"
     ]
    }
   ],
   "source": [
    "import pandas as pd\n",
    "import numpy as np\n",
    "from sklearn.neighbors import KNeighborsClassifier\n",
    "from sklearn.model_selection import train_test_split\n",
    "from sklearn.metrics import accuracy_score\n",
    "from sklearn.metrics import classification_report, confusion_matrix\n",
    "from warnings import simplefilter\n",
    "simplefilter(action='ignore', category=FutureWarning)\n",
    "from sklearn.model_selection import cross_val_score\n",
    "df = pd.read_csv('Cleaned-Data.csv')\n",
    "df.drop('Age_0-9', axis=1)\n",
    "df.drop('Age_10-19', axis=1)\n",
    "df.drop('Age_20-24', axis=1)\n",
    "df.drop('Age_25-59', axis=1)\n",
    "df.drop('Age_60+', axis=1)\n",
    "df.drop('Severity_Mild', axis=1)\n",
    "df.drop('Severity_Moderate', axis=1)\n",
    "df.drop('Severity_None', axis=1)\n",
    "df.drop('Severity_Severe', axis=1)\n",
    "df.drop('Contact_Dont-Know', axis=1)\n",
    "df.drop('Contact_No', axis=1)\n",
    "df.drop('Contact_Yes', axis=1)\n",
    "df.drop('Country', axis=1)\n",
    "X=df\n",
    "X=pd.get_dummies(X)\n",
    "X=X.values\n",
    "Y=df.iloc[:,-1]\n",
    "Y=pd.get_dummies(Y)\n",
    "Y=Y.values\n",
    "X_train, X_test, y_train, y_test = train_test_split(X,Y, test_size=0.25, random_state=42)\n",
    "KNN.fit(X_train,y_train.ravel())\n",
    "y_pred=KNN.predict(X_test)\n",
    "print('classification',classification_report(y_test, y_pred))\n",
    "print('Cross', cross_val_score(KNN, y_test,y_pred))\n",
    "print('Cross', np.mean(cross_val_score(KNN, y_test,y_pred)))\n",
    "knn = KNeighborsClassifier(n_neighbors = 4)\n",
    "knn.fit(X_train, y_train.ravel())\n",
    "y_pre = knn.predict(X_test)\n",
    "accuracy = accuracy_score(y_test, y_pre)\n",
    "print(\"Accuracy\", accuracy)"
   ]
  },
  {
   "cell_type": "code",
   "execution_count": null,
   "id": "ef7a41f7-61cb-4b13-9af1-30725d58048c",
   "metadata": {},
   "outputs": [],
   "source": []
  }
 ],
 "metadata": {
  "kernelspec": {
   "display_name": "Python 3 (ipykernel)",
   "language": "python",
   "name": "python3"
  },
  "language_info": {
   "codemirror_mode": {
    "name": "ipython",
    "version": 3
   },
   "file_extension": ".py",
   "mimetype": "text/x-python",
   "name": "python",
   "nbconvert_exporter": "python",
   "pygments_lexer": "ipython3",
   "version": "3.9.13"
  }
 },
 "nbformat": 4,
 "nbformat_minor": 5
}
